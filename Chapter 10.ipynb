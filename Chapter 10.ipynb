{
 "cells": [
  {
   "cell_type": "code",
   "execution_count": 2,
   "id": "4b5620a8",
   "metadata": {},
   "outputs": [
    {
     "name": "stdout",
     "output_type": "stream",
     "text": [
      "Enter 'quit' if you want to leave\n",
      "\n",
      " What is your name?Bryan\n",
      "Bryan has been added to the guestbook\n",
      "\n",
      " What is your name?quit\n"
     ]
    }
   ],
   "source": [
    "filename = 'guest_book.txt'\n",
    "print(\"Enter 'quit' if you want to leave\")\n",
    "while True:\n",
    "    name = input(\"\\n What is your name?\")\n",
    "    if name == 'quit':\n",
    "        break\n",
    "    else:\n",
    "        with open(filename, 'a') as file_object:\n",
    "            file_object.write(f\"{name}\\n\")\n",
    "        print(f\"{name} has been added to the guestbook\")"
   ]
  },
  {
   "cell_type": "code",
   "execution_count": 4,
   "id": "872f9f96",
   "metadata": {},
   "outputs": [
    {
     "name": "stdout",
     "output_type": "stream",
     "text": [
      "Enter 'quit' when you are done with your response\n",
      "\n",
      " Why do you like Programming?It is fun like a puzzle!\n",
      "\n",
      " Why do you like Programming?quit\n"
     ]
    }
   ],
   "source": [
    "filename = 'people_poll.txt'\n",
    "print(\"Enter 'quit' when you are done with your response\")\n",
    "while True:\n",
    "    poll = input(\"\\n Why do you like Programming?\")\n",
    "    if poll == 'quit':\n",
    "        break\n",
    "    else:\n",
    "        with open(filename, 'a') as file_object:\n",
    "            file_object.write(f\"{poll}\\n\")"
   ]
  },
  {
   "cell_type": "code",
   "execution_count": 34,
   "id": "adcec53f",
   "metadata": {},
   "outputs": [
    {
     "name": "stdout",
     "output_type": "stream",
     "text": [
      "Enter 'q' when you are done with using the calculator\n",
      "enter a number:3\n",
      "enter a number:4\n",
      "7\n",
      "enter a number:3\n",
      "enter a number:a\n",
      "Sorry, the number should be numeric\n",
      "enter a number:b\n",
      "enter a number:4\n",
      "Sorry, the number should be numeric\n",
      "enter a number:a\n",
      "enter a number:b\n",
      "Sorry, the number should be numeric\n",
      "enter a number:q\n"
     ]
    }
   ],
   "source": [
    "print(\"Enter 'q' when you are done with using the calculator\")\n",
    "while True:\n",
    "    try:\n",
    "        a = input(\"enter a number:\")\n",
    "        if a == 'q':\n",
    "            break\n",
    "        b = input(\"enter a number:\")\n",
    "        if b == 'q':\n",
    "            break\n",
    "        a = int(a)\n",
    "        b = int(b)\n",
    "    except ValueError:\n",
    "            print(\"Sorry, the number should be numeric\")\n",
    "    else:\n",
    "            sum = (a+b)\n",
    "            print(sum)\n",
    "    \n"
   ]
  },
  {
   "cell_type": "code",
   "execution_count": 51,
   "id": "a100818e",
   "metadata": {},
   "outputs": [
    {
     "name": "stdout",
     "output_type": "stream",
     "text": [
      "Reading cats.txt\n",
      "kittie\n",
      "chittie\n",
      "putti\n",
      "Reading dogs.txt\n",
      "gussie\n",
      "nova\n",
      "myka\n",
      "casper\n"
     ]
    }
   ],
   "source": [
    "filenames = ['cats.txt', 'dogs.txt']\n",
    "for filename in filenames:\n",
    "    print(f\"Reading {filename}\")\n",
    "    try:\n",
    "        with open(filename, 'r') as file:\n",
    "            contents = file.read()\n",
    "            print(contents)\n",
    "    except FileNotFound:\n",
    "        print(\"Sorry, the file doesn't exist\")\n",
    "    "
   ]
  },
  {
   "cell_type": "code",
   "execution_count": 57,
   "id": "89a515e8",
   "metadata": {},
   "outputs": [
    {
     "name": "stdout",
     "output_type": "stream",
     "text": [
      "Reading cats.txt\n",
      "kittie\n",
      "chittie\n",
      "putti\n",
      "Reading dogs.txt\n",
      "gussie\n",
      "nova\n",
      "myka\n",
      "casper\n"
     ]
    }
   ],
   "source": [
    "filenames = ['cats.txt', 'dogs.txt', 'monkeys.txt']\n",
    "for filename in filenames:\n",
    "    try:\n",
    "        with open(filename, 'r') as file:\n",
    "            contents = file.read()\n",
    "    except FileNotFoundError:\n",
    "        pass\n",
    "    else:\n",
    "        print(f\"Reading {filename}\")\n",
    "        print(contents)"
   ]
  },
  {
   "cell_type": "code",
   "execution_count": 69,
   "id": "a16d8242",
   "metadata": {},
   "outputs": [
    {
     "name": "stdout",
     "output_type": "stream",
     "text": [
      "2364\n"
     ]
    }
   ],
   "source": [
    "with open('tales_of_passed_time.txt') as f:\n",
    "    contents = f.read()\n",
    "    words = contents.split()\n",
    "    the_count = words.count('the')\n",
    "    print(the_count)"
   ]
  },
  {
   "cell_type": "code",
   "execution_count": 74,
   "id": "9704c72d",
   "metadata": {},
   "outputs": [
    {
     "name": "stdout",
     "output_type": "stream",
     "text": [
      "Enter your favorite number:9\n"
     ]
    }
   ],
   "source": [
    "\"\"\" favorite Number\"\"\"\n",
    "import json\n",
    "num = input(\"Enter your favorite number:\")\n",
    "filename = 'numbers.txt'\n",
    "with open (filename, 'w') as f:\n",
    "    json.dump(num, f)"
   ]
  },
  {
   "cell_type": "code",
   "execution_count": 75,
   "id": "d9cd77b7",
   "metadata": {},
   "outputs": [
    {
     "name": "stdout",
     "output_type": "stream",
     "text": [
      "I know your favorite number is 9\n"
     ]
    }
   ],
   "source": [
    "\"\"\"Program that reads from script above\"\"\"\n",
    "import json\n",
    "filename = 'numbers.txt'\n",
    "with open(filename) as f:\n",
    "    fav_num = json.load(f)\n",
    "    print(f\"I know your favorite number is {fav_num}\")"
   ]
  },
  {
   "cell_type": "code",
   "execution_count": 81,
   "id": "86e57787",
   "metadata": {},
   "outputs": [
    {
     "name": "stdout",
     "output_type": "stream",
     "text": [
      "Enter your favorite number:9\n"
     ]
    },
    {
     "data": {
      "text/plain": [
       "'9'"
      ]
     },
     "execution_count": 81,
     "metadata": {},
     "output_type": "execute_result"
    }
   ],
   "source": [
    "\"\"\"Combine scripts above\"\"\"\n",
    "import json \n",
    "fav_num = input(\"Enter your favorite number:\")\n",
    "filename = 'numbers.txt'\n",
    "with open (filename, 'w') as f:\n",
    "    json.dump(fav_num, f)\n",
    "try:\n",
    "    with open(filename) as f:\n",
    "        num = json.load(f)\n",
    "except FileNotFoundError:\n",
    "    print(\"The File does not exist\")\n",
    "else:\n",
    "    if num:\n",
    "        print(f\"I know your favorite number is {fav_num}\")\n",
    "    else:\n",
    "        num = input(\"Enter your favorite number:\")\n",
    "        json.dump(num, f)\n",
    "            "
   ]
  },
  {
   "cell_type": "code",
   "execution_count": 7,
   "id": "616328a6",
   "metadata": {},
   "outputs": [
    {
     "name": "stdout",
     "output_type": "stream",
     "text": [
      "Are you Bryan? If yes, type 'yes'. If not type 'no'\n",
      "What is your name?Divya\n",
      "Welcome Divya!\n"
     ]
    }
   ],
   "source": [
    "import json\n",
    "\n",
    "def get_stored_username():\n",
    "    \"\"\"Get stored username if available.\"\"\"\n",
    "    filename = 'username.json'\n",
    "    try:\n",
    "        with open(filename) as f_obj:\n",
    "            username = json.load(f_obj)\n",
    "    except FileNotFoundError:\n",
    "        return None\n",
    "    else:\n",
    "        return username\n",
    "\n",
    "\n",
    "def get_new_username():\n",
    "    \"\"\"Prompt for a new user name.\"\"\"\n",
    "    username = input(\"What is your name?\")\n",
    "    filename = 'username.json'\n",
    "    with open(filename, 'w') as f:\n",
    "        json.dump(username, f)\n",
    "    return username\n",
    "\n",
    "def greet_user():\n",
    "    \"\"\"Greet user by name\"\"\"\n",
    "    username = get_stored_username()\n",
    "    response = print(f\"Are you {username}? If yes, type 'yes'. If not type 'no'\")\n",
    "    if response == 'yes':\n",
    "        print(f\"Welcome back {username}!\")\n",
    "    else:\n",
    "        username = get_new_username()\n",
    "        print(f\"Welcome {username}!\")\n",
    "        \n",
    "\n",
    "\n",
    "        \n",
    "greet_user()"
   ]
  },
  {
   "cell_type": "code",
   "execution_count": null,
   "id": "612590ba",
   "metadata": {},
   "outputs": [],
   "source": []
  }
 ],
 "metadata": {
  "kernelspec": {
   "display_name": "Python 3 (ipykernel)",
   "language": "python",
   "name": "python3"
  },
  "language_info": {
   "codemirror_mode": {
    "name": "ipython",
    "version": 3
   },
   "file_extension": ".py",
   "mimetype": "text/x-python",
   "name": "python",
   "nbconvert_exporter": "python",
   "pygments_lexer": "ipython3",
   "version": "3.9.13"
  }
 },
 "nbformat": 4,
 "nbformat_minor": 5
}
